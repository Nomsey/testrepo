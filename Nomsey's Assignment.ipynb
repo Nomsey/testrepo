{
  "metadata": {
    "kernelspec": {
      "name": "python",
      "display_name": "Pyolite",
      "language": "python"
    },
    "language_info": {
      "codemirror_mode": {
        "name": "python",
        "version": 3
      },
      "file_extension": ".py",
      "mimetype": "text/x-python",
      "name": "python",
      "nbconvert_exporter": "python",
      "pygments_lexer": "ipython3",
      "version": "3.8"
    }
  },
  "nbformat_minor": 4,
  "nbformat": 4,
  "cells": [
    {
      "cell_type": "markdown",
      "source": "<center>\n    <img src=\"https://cf-courses-data.s3.us.cloud-object-storage.appdomain.cloud/IBMDeveloperSkillsNetwork-DS0105EN-SkillsNetwork/labs/Module2/images/SN_web_lightmode.png\" width=\"300\" alt=\"cognitiveclass.ai logo\">\n</center>\n",
      "metadata": {}
    },
    {
      "cell_type": "markdown",
      "source": "# H1 My Jupyter Notebook on Skills Network LTI",
      "metadata": {}
    },
    {
      "cell_type": "markdown",
      "source": "**Nomsey Uchenna Okosa**\n\n**Data Scientist**",
      "metadata": {}
    },
    {
      "cell_type": "markdown",
      "source": "*I am interested in Data Science because of the opportunity its provides me to gain insights into patterns in a data set. Similarly, witht the drive for big data analysis by businesses and firms, data science is the way to go.*",
      "metadata": {}
    },
    {
      "cell_type": "markdown",
      "source": "### H3 The code below provides the product of two numbers",
      "metadata": {}
    },
    {
      "cell_type": "code",
      "source": "100*0",
      "metadata": {
        "trusted": true
      },
      "execution_count": 5,
      "outputs": [
        {
          "execution_count": 5,
          "output_type": "execute_result",
          "data": {
            "text/plain": "0"
          },
          "metadata": {}
        }
      ]
    },
    {
      "cell_type": "markdown",
      "source": ">Cousera is a great place to learn.\n\n* My first interest is Python\n* My second interest is R\n* My third interest is SQL\n\n---Man in the image of God have been able to search out the depths of data, using various tools...\n",
      "metadata": {}
    },
    {
      "cell_type": "code",
      "source": "",
      "metadata": {},
      "execution_count": null,
      "outputs": []
    }
  ]
}